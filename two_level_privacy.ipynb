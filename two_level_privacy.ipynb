{
 "cells": [
  {
   "cell_type": "code",
   "execution_count": 2,
   "id": "d64cf07a",
   "metadata": {},
   "outputs": [
    {
     "name": "stdout",
     "output_type": "stream",
     "text": [
      "Collecting phe\n",
      "  Downloading phe-1.5.0-py2.py3-none-any.whl.metadata (3.8 kB)\n",
      "Downloading phe-1.5.0-py2.py3-none-any.whl (53 kB)\n",
      "Installing collected packages: phe\n",
      "Successfully installed phe-1.5.0\n",
      "Note: you may need to restart the kernel to use updated packages.\n"
     ]
    },
    {
     "name": "stderr",
     "output_type": "stream",
     "text": [
      "\n",
      "[notice] A new release of pip is available: 24.3.1 -> 25.1.1\n",
      "[notice] To update, run: python.exe -m pip install --upgrade pip\n"
     ]
    }
   ],
   "source": [
    "pip install phe"
   ]
  },
  {
   "cell_type": "markdown",
   "id": "435e9323",
   "metadata": {},
   "source": [
    "Importing Libraries"
   ]
  },
  {
   "cell_type": "code",
   "execution_count": 1,
   "id": "8d77fd89",
   "metadata": {},
   "outputs": [],
   "source": [
    "from phe import paillier\n",
    "import numpy as np\n",
    "from sklearn.datasets import make_classification\n",
    "from sklearn.linear_model import SGDClassifier\n",
    "from sklearn.metrics import accuracy_score"
   ]
  },
  {
   "cell_type": "markdown",
   "id": "f229e930",
   "metadata": {},
   "source": [
    "Key Generation Module"
   ]
  },
  {
   "cell_type": "code",
   "execution_count": 5,
   "id": "f11f6260",
   "metadata": {},
   "outputs": [],
   "source": [
    "from sklearn.model_selection import train_test_split\n",
    "\n",
    "class Client:\n",
    "    def __init__(self, id, public_key, private_key, data, labels):\n",
    "        self.id = id\n",
    "        self.public_key = public_key\n",
    "        self.private_key = private_key\n",
    "\n",
    "        # Split the data into train and test sets\n",
    "        self.X_train, self.X_test, self.y_train, self.y_test = train_test_split(data, labels, test_size=0.3, random_state=42)\n",
    "\n",
    "        self.model_weights = None\n",
    "    \n",
    "    def train_local_model(self):\n",
    "        clf = SGDClassifier(loss='log_loss', max_iter=1000, learning_rate='constant', eta0=0.01)\n",
    "        clf.fit(self.X_train, self.y_train)\n",
    "        self.model_weights = clf.coef_[0]\n",
    "        return self.model_weights\n",
    "\n",
    "    def encrypt_weights(self):\n",
    "        return [self.public_key.encrypt(x) for x in self.model_weights]\n",
    "    \n",
    "    def decrypt_weights(self, encrypted_weights):\n",
    "        return np.array([self.private_key.decrypt(x) for x in encrypted_weights])"
   ]
  },
  {
   "cell_type": "markdown",
   "id": "e825c2f5",
   "metadata": {},
   "source": [
    "Server-Side Logic"
   ]
  },
  {
   "cell_type": "code",
   "execution_count": 6,
   "id": "0c1e3a1c",
   "metadata": {},
   "outputs": [],
   "source": [
    "class Server:\n",
    "    def __init__(self, public_key):\n",
    "        self.public_key = public_key\n",
    "        self.encrypted_models = []\n",
    "\n",
    "    def receive_encrypted_model(self, encrypted_model):\n",
    "        self.encrypted_models.append(encrypted_model)\n",
    "\n",
    "    def aggregate_encrypted_models(self, num_clients):\n",
    "        n_weights = len(self.encrypted_models[0])\n",
    "        aggregated_model = []\n",
    "        for i in range(n_weights):\n",
    "            sum_enc = sum(client_weights[i] for client_weights in self.encrypted_models)\n",
    "            avg_enc = sum_enc * (1 / num_clients)\n",
    "            aggregated_model.append(avg_enc)\n",
    "        return aggregated_model"
   ]
  },
  {
   "cell_type": "markdown",
   "id": "1bbed1f4",
   "metadata": {},
   "source": [
    "Simulated Federated Training"
   ]
  },
  {
   "cell_type": "code",
   "execution_count": 7,
   "id": "35d34bdb",
   "metadata": {},
   "outputs": [
    {
     "name": "stdout",
     "output_type": "stream",
     "text": [
      "\n",
      "🔁 Round 1 - Local training and encryption\n",
      "Client 0 encrypted and sent weights.\n",
      "Client 1 encrypted and sent weights.\n",
      "Client 2 encrypted and sent weights.\n",
      "🔐 Server aggregating encrypted models...\n",
      "Client 0 decrypted global model.\n",
      "Client 1 decrypted global model.\n",
      "Client 2 decrypted global model.\n",
      "\n",
      "🔁 Round 2 - Local training and encryption\n",
      "Client 0 encrypted and sent weights.\n",
      "Client 1 encrypted and sent weights.\n",
      "Client 2 encrypted and sent weights.\n",
      "🔐 Server aggregating encrypted models...\n",
      "Client 0 decrypted global model.\n",
      "Client 1 decrypted global model.\n",
      "Client 2 decrypted global model.\n",
      "\n",
      "🔁 Round 3 - Local training and encryption\n",
      "Client 0 encrypted and sent weights.\n",
      "Client 1 encrypted and sent weights.\n",
      "Client 2 encrypted and sent weights.\n",
      "🔐 Server aggregating encrypted models...\n",
      "Client 0 decrypted global model.\n",
      "Client 1 decrypted global model.\n",
      "Client 2 decrypted global model.\n",
      "Client 0 Test Accuracy: 0.87\n",
      "Client 1 Test Accuracy: 0.80\n",
      "Client 2 Test Accuracy: 0.77\n"
     ]
    }
   ],
   "source": [
    "def federated_training(num_clients=3, num_rounds=3):\n",
    "    # Step 1: Create data\n",
    "    X, y = make_classification(n_samples=300, n_features=5, n_informative=3, n_classes=2)\n",
    "    split_data = np.array_split(X, num_clients)\n",
    "    split_labels = np.array_split(y, num_clients)\n",
    "\n",
    "    # Step 2: Generate key pair\n",
    "    public_key, private_key = paillier.generate_paillier_keypair()\n",
    "\n",
    "    # Step 3: Initialize clients\n",
    "    clients = []\n",
    "    for i in range(num_clients):\n",
    "        clients.append(Client(i, public_key, private_key, split_data[i], split_labels[i]))\n",
    "\n",
    "    # Step 4: Initialize server\n",
    "    server = Server(public_key)\n",
    "\n",
    "    for round in range(num_rounds):\n",
    "        print(f\"\\n🔁 Round {round + 1} - Local training and encryption\")\n",
    "\n",
    "        server.encrypted_models.clear()\n",
    "        for client in clients:\n",
    "            local_weights = client.train_local_model()\n",
    "            enc_weights = client.encrypt_weights()\n",
    "            server.receive_encrypted_model(enc_weights)\n",
    "            print(f\"Client {client.id} encrypted and sent weights.\")\n",
    "\n",
    "        print(\"🔐 Server aggregating encrypted models...\")\n",
    "        encrypted_global_model = server.aggregate_encrypted_models(num_clients)\n",
    "\n",
    "        for client in clients:\n",
    "            decrypted_global_model = client.decrypt_weights(encrypted_global_model)\n",
    "            client.model_weights = decrypted_global_model  # Update local model weights\n",
    "            print(f\"Client {client.id} decrypted global model.\")\n",
    "\n",
    "    return clients\n",
    "\n",
    "# ------------------------------\n",
    "# Evaluation\n",
    "# ------------------------------\n",
    "\n",
    "def evaluate_global_model(clients):\n",
    "    for client in clients:\n",
    "        clf = SGDClassifier()\n",
    "        clf.coef_ = client.model_weights.reshape(1, -1)\n",
    "        clf.intercept_ = np.array([0])\n",
    "        clf.classes_ = np.array([0, 1])  # Manually set class labels\n",
    "\n",
    "        preds = clf.predict(client.X_test)\n",
    "        acc = accuracy_score(client.y_test, preds)\n",
    "        print(f\"Client {client.id} Test Accuracy: {acc:.2f}\")\n",
    "\n",
    "\n",
    "# ------------------------------\n",
    "# Run the Whole Pipeline\n",
    "# ------------------------------\n",
    "\n",
    "clients = federated_training()\n",
    "evaluate_global_model(clients)"
   ]
  }
 ],
 "metadata": {
  "kernelspec": {
   "display_name": "Python 3",
   "language": "python",
   "name": "python3"
  },
  "language_info": {
   "codemirror_mode": {
    "name": "ipython",
    "version": 3
   },
   "file_extension": ".py",
   "mimetype": "text/x-python",
   "name": "python",
   "nbconvert_exporter": "python",
   "pygments_lexer": "ipython3",
   "version": "3.12.9"
  }
 },
 "nbformat": 4,
 "nbformat_minor": 5
}
